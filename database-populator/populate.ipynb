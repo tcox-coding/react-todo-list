{
 "cells": [
  {
   "cell_type": "code",
   "execution_count": 1,
   "metadata": {},
   "outputs": [],
   "source": [
    "import psycopg2"
   ]
  },
  {
   "cell_type": "code",
   "execution_count": 2,
   "metadata": {},
   "outputs": [],
   "source": [
    "conn = psycopg2.connect(\"host=0.0.0.0 port=5432 dbname=todo_application user=postgres password=postgres\")\n",
    "cur = conn.cursor()"
   ]
  },
  {
   "cell_type": "markdown",
   "metadata": {},
   "source": [
    "# Database Tables\n",
    "Create the database tables."
   ]
  },
  {
   "cell_type": "code",
   "execution_count": 3,
   "metadata": {},
   "outputs": [],
   "source": [
    "# Delete tables if they exist\n",
    "cur.execute('DROP SCHEMA IF EXISTS todo CASCADE;')\n",
    "cur.execute('DROP TABLE IF EXISTS tasks;')\n",
    "cur.execute('DROP TABLE IF EXISTS lists;')\n",
    "cur.execute('DROP TABLE IF EXISTS users;')\n",
    "# Create the database tables\n",
    "cur.execute(\"CREATE SCHEMA IF NOT EXISTS todo;\")\n",
    "cur.execute('CREATE TABLE IF NOT EXISTS todo.users (id SERIAL PRIMARY KEY, username TEXT NOT NULL, password_hash TEXT NOT NULL);')\n",
    "cur.execute(\"CREATE TABLE IF NOT EXISTS todo.lists (id SERIAL PRIMARY KEY, name TEXT NOT NULL, user_id INTEGER NOT NULL REFERENCES todo.users (id));\")\n",
    "cur.execute(\"CREATE TABLE IF NOT EXISTS todo.tasks (id SERIAL PRIMARY KEY, user_id INTEGER NOT NULL REFERENCES todo.users (id), list_id INTEGER NOT NULL REFERENCES todo.lists (id), task TEXT NOT NULL, completed BOOLEAN NOT NULL);\")\n",
    "# Delete data if any exists in the tables.\n",
    "cur.execute(\"DELETE FROM todo.tasks;\")\n",
    "cur.execute(\"DELETE FROM todo.lists;\")\n",
    "cur.execute(\"DELETE FROM todo.users;\")\n",
    "# Insert some test data\n",
    "cur.execute(\"INSERT INTO todo.users (id, username, password_hash) VALUES (1, 'test', '5e884898da28047151d0e56f8dc6292773603d0d6aabbdd62a11ef721d1542d8')\")\n",
    "# Grocery List\n",
    "cur.execute(\"INSERT INTO todo.lists (name, user_id) VALUES ('Groceries', 1);\")\n",
    "cur.execute(\"INSERT INTO todo.tasks (list_id, task, completed, user_id) VALUES (1, 'Buy milk', false, 1);\")\n",
    "cur.execute(\"INSERT INTO todo.tasks (list_id, task, completed, user_id) VALUES (1, 'Buy eggs', false, 1);\")\n",
    "cur.execute(\"INSERT INTO todo.tasks (list_id, task, completed, user_id) VALUES (1, 'Buy bread', false, 1);\")\n",
    "# Chores List\n",
    "cur.execute(\"INSERT INTO todo.lists (name, user_id) VALUES ('Chores', 1);\")\n",
    "cur.execute(\"INSERT INTO todo.tasks (list_id, task, completed, user_id) VALUES (2, 'Do laundry', false, 1);\")\n",
    "cur.execute(\"INSERT INTO todo.tasks (list_id, task, completed, user_id) VALUES (2, 'Wash dishes', false, 1);\")\n",
    "cur.execute(\"INSERT INTO todo.tasks (list_id, task, completed, user_id) VALUES (2, 'Vacuum', false, 1);\")\n",
    "# Work List\n",
    "cur.execute(\"INSERT INTO todo.lists (name, user_id) VALUES ('Work', 1);\")\n",
    "cur.execute(\"INSERT INTO todo.tasks (list_id, task, completed, user_id) VALUES (3, 'Prepare presentation', false, 1);\")\n",
    "cur.execute(\"INSERT INTO todo.tasks (list_id, task, completed, user_id) VALUES (3, 'Answer emails', false, 1);\")\n",
    "cur.execute(\"INSERT INTO todo.tasks (list_id, task, completed, user_id) VALUES (3, 'Attend meeting', false, 1);\")\n",
    "\n",
    "conn.commit()"
   ]
  }
 ],
 "metadata": {
  "kernelspec": {
   "display_name": "venv",
   "language": "python",
   "name": "python3"
  },
  "language_info": {
   "codemirror_mode": {
    "name": "ipython",
    "version": 3
   },
   "file_extension": ".py",
   "mimetype": "text/x-python",
   "name": "python",
   "nbconvert_exporter": "python",
   "pygments_lexer": "ipython3",
   "version": "3.13.1"
  }
 },
 "nbformat": 4,
 "nbformat_minor": 2
}
